{
  "nbformat": 4,
  "nbformat_minor": 5,
  "metadata": {
    "noteable-chatgpt": {
      "create_notebook": {
        "openai_conversation_id": "bccea9fd-d4b5-5542-9dd7-f301a8fbb241",
        "openai_ephemeral_user_id": "86089a0f-95a6-541e-a7b8-e17f12c6f714",
        "openai_subdivision1_iso_code": "US-TX"
      }
    },
    "noteable": {
      "last_transaction_id": "52af087e-ce36-43a1-911e-8a4f999497e1"
    },
    "kernel_info": {
      "name": "python3"
    },
    "kernelspec": {
      "display_name": "Python 3.9",
      "language": "python",
      "name": "python3"
    },
    "selected_hardware_size": "small"
  },
  "cells": [
    {
      "id": "dbe14f2a-5f9f-46ab-8056-b5f0ad603ad6",
      "cell_type": "code",
      "metadata": {
        "noteable": {
          "cell_type": "code",
          "output_collection_id": "3864c326-9728-4282-8325-5ee564e68f7b"
        },
        "ExecuteTime": {
          "end_time": "2023-08-02T20:06:53.555836+00:00",
          "start_time": "2023-08-02T20:06:51.837463+00:00"
        },
        "datalink": {
          "4743d6f8-2df9-417e-b803-62509a813a67": {
            "applied_filters": [],
            "dataframe_info": {
              "default_index_used": true,
              "orig_num_cols": 15,
              "orig_num_rows": 5,
              "orig_size_bytes": 640,
              "truncated_num_cols": 15,
              "truncated_num_rows": 5,
              "truncated_size_bytes": 640,
              "truncated_string_columns": []
            },
            "display_id": "4743d6f8-2df9-417e-b803-62509a813a67",
            "dx_settings": {
              "ALLOW_NOTEABLE_ATTRS": true,
              "COLUMN_SAMPLING_METHOD": "outer",
              "DB_LOCATION": ":memory:",
              "DEV_MODE": false,
              "DISPLAY_MAX_COLUMNS": 100,
              "DISPLAY_MAX_ROWS": 50000,
              "DISPLAY_MODE": "simple",
              "ENABLE_ASSIGNMENT": true,
              "ENABLE_DATALINK": true,
              "FLATTEN_COLUMN_VALUES": true,
              "FLATTEN_INDEX_VALUES": false,
              "GENERATE_DEX_METADATA": false,
              "HTML_TABLE_SCHEMA": false,
              "LOG_LEVEL": 30,
              "MAX_RENDER_SIZE_BYTES": 104857600,
              "MAX_STRING_LENGTH": 250,
              "NUM_PAST_SAMPLES_TRACKED": 3,
              "RANDOM_STATE": 12648430,
              "RESET_INDEX_VALUES": false,
              "ROW_SAMPLING_METHOD": "random",
              "SAMPLING_FACTOR": 0.1,
              "SAMPLING_METHOD": "random",
              "STRINGIFY_COLUMN_VALUES": true,
              "STRINGIFY_INDEX_VALUES": false
            },
            "sample_history": [],
            "sampling_time": "2023-08-02T20:06:53.393672",
            "user_variable_name": null,
            "variable_name": "unk_dataframe_6cfc6397f7af4b4ea56d45f9213d387c"
          }
        }
      },
      "execution_count": null,
      "source": "import pandas as pd\n\n# Define the column names for the dataset\ncolumn_names = ['age', 'workclass', 'fnlwgt', 'education', 'education-num', 'marital-status', 'occupation', 'relationship', 'race', 'sex', 'capital-gain', 'capital-loss', 'hours-per-week', 'native-country', 'income']\n\n# Load the dataset from the UCI Machine Learning Repository\nurl = 'https://archive.ics.uci.edu/ml/machine-learning-databases/adult/adult.data'\ndf = pd.read_csv(url, names=column_names, na_values='?', sep=', ', engine='python')\n\n# Display the first few rows of the dataframe\ndf.head()",
      "outputs": []
    },
    {
      "id": "e2ae9e62-e8e2-41ea-a559-2d03f57068f8",
      "cell_type": "code",
      "metadata": {
        "noteable": {
          "cell_type": "code",
          "output_collection_id": "7f33daee-c25b-4036-bde1-a0bc54b64ce9"
        },
        "ExecuteTime": {
          "end_time": "2023-08-02T20:07:53.990827+00:00",
          "start_time": "2023-08-02T20:07:53.734875+00:00"
        }
      },
      "execution_count": null,
      "source": "# Display the shape of the dataframe\nprint('Shape of the dataframe:', df.shape)\n\n# Display the data types of the columns\nprint('\\nData types of the columns:')\nprint(df.dtypes)\n\n# Display the number of missing values in each column\nprint('\\nNumber of missing values in each column:')\nprint(df.isnull().sum())\n\n# Display the number of unique values in each column\nprint('\\nNumber of unique values in each column:')\nprint(df.nunique())\n\n# Display the distribution of the target variable (income)\nprint('\\nDistribution of the target variable (income):')\nprint(df['income'].value_counts())",
      "outputs": []
    },
    {
      "id": "a6b1b370-dca6-4952-83a0-45b9410a8f64",
      "cell_type": "code",
      "metadata": {
        "noteable": {
          "cell_type": "code",
          "output_collection_id": "5ca40b81-dd29-41e3-914d-22cb8d5ef94c"
        },
        "ExecuteTime": {
          "end_time": "2023-08-02T20:08:35.386129+00:00",
          "start_time": "2023-08-02T20:08:34.419188+00:00"
        },
        "datalink": {
          "bbed5e21-0739-4f6a-97e8-d062033eb515": {
            "applied_filters": [],
            "dataframe_info": {
              "default_index_used": true,
              "orig_num_cols": 15,
              "orig_num_rows": 5,
              "orig_size_bytes": 640,
              "truncated_num_cols": 15,
              "truncated_num_rows": 5,
              "truncated_size_bytes": 640,
              "truncated_string_columns": []
            },
            "display_id": "bbed5e21-0739-4f6a-97e8-d062033eb515",
            "dx_settings": {
              "ALLOW_NOTEABLE_ATTRS": true,
              "COLUMN_SAMPLING_METHOD": "outer",
              "DB_LOCATION": ":memory:",
              "DEV_MODE": false,
              "DISPLAY_MAX_COLUMNS": 100,
              "DISPLAY_MAX_ROWS": 50000,
              "DISPLAY_MODE": "simple",
              "ENABLE_ASSIGNMENT": true,
              "ENABLE_DATALINK": true,
              "FLATTEN_COLUMN_VALUES": true,
              "FLATTEN_INDEX_VALUES": false,
              "GENERATE_DEX_METADATA": false,
              "HTML_TABLE_SCHEMA": false,
              "LOG_LEVEL": 30,
              "MAX_RENDER_SIZE_BYTES": 104857600,
              "MAX_STRING_LENGTH": 250,
              "NUM_PAST_SAMPLES_TRACKED": 3,
              "RANDOM_STATE": 12648430,
              "RESET_INDEX_VALUES": false,
              "ROW_SAMPLING_METHOD": "random",
              "SAMPLING_FACTOR": 0.1,
              "SAMPLING_METHOD": "random",
              "STRINGIFY_COLUMN_VALUES": true,
              "STRINGIFY_INDEX_VALUES": false
            },
            "sample_history": [],
            "sampling_time": "2023-08-02T20:08:35.227442",
            "user_variable_name": null,
            "variable_name": "unk_dataframe_636e9fdf853941e6a371d2787bfdd5ef"
          }
        }
      },
      "execution_count": null,
      "source": "from sklearn.impute import SimpleImputer\nfrom sklearn.preprocessing import LabelEncoder\n\n# Handle missing values\nimputer = SimpleImputer(strategy='most_frequent')\ndf_imputed = pd.DataFrame(imputer.fit_transform(df), columns=df.columns)\n\n# Encode categorical variables\nencoder = LabelEncoder()\nfor column in df_imputed.select_dtypes(include=['object']).columns:\n    df_imputed[column] = encoder.fit_transform(df_imputed[column])\n\n# Display the first few rows of the preprocessed dataframe\ndf_imputed.head()",
      "outputs": []
    },
    {
      "id": "4d8f65d8-9180-40d5-aaf1-19441a0c4fa5",
      "cell_type": "code",
      "metadata": {
        "noteable": {
          "cell_type": "code",
          "output_collection_id": "dd21aa39-42b4-408f-977e-4a2859817e69"
        },
        "ExecuteTime": {
          "end_time": "2023-08-02T20:09:36.730679+00:00",
          "start_time": "2023-08-02T20:09:34.909521+00:00"
        }
      },
      "execution_count": null,
      "source": "import matplotlib.pyplot as plt\nimport seaborn as sns\n\n# Set the style of the visualization\nsns.set(style='whitegrid')\n\n# Create a count plot of the 'education' column\nplt.figure(figsize=(14, 6))\nsns.countplot(x='education', data=df_imputed, palette='Set3')\nplt.title('Distribution of Education Levels')\nplt.xlabel('Education Level')\nplt.ylabel('Count')\nplt.xticks(rotation=45)\nplt.show()\n\n# Create a count plot of the 'occupation' column\nplt.figure(figsize=(14, 6))\nsns.countplot(x='occupation', data=df_imputed, palette='Set3')\nplt.title('Distribution of Occupations')\nplt.xlabel('Occupation')\nplt.ylabel('Count')\nplt.xticks(rotation=45)\nplt.show()\n\n# Create a count plot of the 'income' column\nplt.figure(figsize=(6, 6))\nsns.countplot(x='income', data=df_imputed, palette='Set3')\nplt.title('Distribution of Income')\nplt.xlabel('Income')\nplt.ylabel('Count')\nplt.show()",
      "outputs": []
    },
    {
      "id": "8aae18ec-aba8-470b-8d1e-12fa0451baf2",
      "cell_type": "code",
      "metadata": {
        "noteable": {
          "cell_type": "code",
          "output_collection_id": "c59c1e65-029c-4dce-8e11-8ef306183c3d"
        },
        "ExecuteTime": {
          "end_time": "2023-08-02T20:10:25.406955+00:00",
          "start_time": "2023-08-02T20:10:24.827209+00:00"
        }
      },
      "execution_count": null,
      "source": "from sklearn.model_selection import train_test_split\nfrom sklearn.preprocessing import StandardScaler\nfrom sklearn.linear_model import LogisticRegression\nfrom sklearn.metrics import classification_report\n\n# Split the data into features and target variable\nX = df_imputed.drop('income', axis=1)\ny = df_imputed['income']\n\n# Split the data into training and test sets\nX_train, X_test, y_train, y_test = train_test_split(X, y, test_size=0.2, random_state=42)\n\n# Standardize the features\nscaler = StandardScaler()\nX_train_scaled = scaler.fit_transform(X_train)\nX_test_scaled = scaler.transform(X_test)\n\n# Train a logistic regression model\nmodel = LogisticRegression()\nmodel.fit(X_train_scaled, y_train)\n\n# Make predictions on the test set\ny_pred = model.predict(X_test_scaled)\n\n# Display the classification report\nprint(classification_report(y_test, y_pred))",
      "outputs": []
    }
  ]
}