{
  "nbformat": 4,
  "nbformat_minor": 5,
  "metadata": {
    "noteable-chatgpt": {
      "create_notebook": {
        "openai_conversation_id": "bccea9fd-d4b5-5542-9dd7-f301a8fbb241",
        "openai_ephemeral_user_id": "86089a0f-95a6-541e-a7b8-e17f12c6f714",
        "openai_subdivision1_iso_code": "US-TX"
      }
    },
    "kernel_info": {
      "name": "python3"
    },
    "noteable": {
      "last_transaction_id": "325f7119-ef91-4ebe-99e6-5287343ca871"
    },
    "kernelspec": {
      "display_name": "Python 3.9",
      "language": "python",
      "name": "python3"
    },
    "selected_hardware_size": "small"
  },
  "cells": [
    {
      "id": "14a15fee-71c0-40f1-b85c-67aa468f41c0",
      "cell_type": "markdown",
      "source": "# Data Analysis with Business Impact: Real-World Data Projects\n\nThis project involves a comprehensive data analysis process on a real-world dataset. The dataset used in this project is the Adult Income dataset from the UCI Machine Learning Repository. The dataset contains various attributes of individuals, and the target variable is whether the individual's income exceeds $50K per year.\n\n## Skills Demonstrated\n\n- **Data Cleaning and Preprocessing:** The project involves handling missing values, encoding categorical variables, and standardizing numerical features.\n- **Exploratory Data Analysis (EDA):** The project includes visualizing the distributions of different attributes in the dataset to gain insights.\n- **Data Modeling:** The project involves training a logistic regression model to predict the target variable and evaluating the model's performance.\n\n## Outcomes\n\nThe outcome of the project is a logistic regression model that can predict whether an individual's income exceeds $50K per year based on various attributes. The model achieved an accuracy of 82% on the test set. The precision, recall, and F1-score for the two classes (0: '<=50K', 1: '>50K') are also provided. The model performs better in predicting class 0 ('<=50K') compared to class 1 ('>50K'), which is expected given the imbalance in the dataset.",
      "metadata": {
        "noteable": {
          "cell_type": "markdown"
        }
      }
    }
  ]
}
